{
 "cells": [
  {
   "cell_type": "code",
   "execution_count": 1,
   "id": "506527d3",
   "metadata": {},
   "outputs": [
    {
     "name": "stdout",
     "output_type": "stream",
     "text": [
      "Enter a floating point number: 44.3 \n"
     ]
    }
   ],
   "source": [
    "message1=\"Enter a floating point number: 44.3 \"\n",
    "print(message1)\n"
   ]
  },
  {
   "cell_type": "code",
   "execution_count": 1,
   "id": "114c373a",
   "metadata": {},
   "outputs": [
    {
     "name": "stdout",
     "output_type": "stream",
     "text": [
      "Enter an integer: 16\n"
     ]
    }
   ],
   "source": [
    "message2=\"Enter an integer: 16\"\n",
    "print(message2)\n"
   ]
  },
  {
   "cell_type": "code",
   "execution_count": 4,
   "id": "7aa46d78",
   "metadata": {},
   "outputs": [
    {
     "name": "stdout",
     "output_type": "stream",
     "text": [
      "The sum is: 60.3\n"
     ]
    }
   ],
   "source": [
    "print(\"The sum is:\",44.3+16)"
   ]
  },
  {
   "cell_type": "code",
   "execution_count": 10,
   "id": "6b39cf55",
   "metadata": {},
   "outputs": [
    {
     "name": "stdout",
     "output_type": "stream",
     "text": [
      "The difference is: 28.299999999999997\n"
     ]
    }
   ],
   "source": [
    "print(\"The difference is:\",44.3-16)"
   ]
  },
  {
   "cell_type": "code",
   "execution_count": 7,
   "id": "ca27cc9f",
   "metadata": {},
   "outputs": [
    {
     "name": "stdout",
     "output_type": "stream",
     "text": [
      "The product is: 708.8\n"
     ]
    }
   ],
   "source": [
    "print(\"The product is:\",44.3*16)"
   ]
  },
  {
   "cell_type": "code",
   "execution_count": 8,
   "id": "80b53a5d",
   "metadata": {},
   "outputs": [
    {
     "name": "stdout",
     "output_type": "stream",
     "text": [
      "The quotient is: 2.76875\n"
     ]
    }
   ],
   "source": [
    "print(\"The quotient is:\",44.3/16)"
   ]
  },
  {
   "cell_type": "code",
   "execution_count": 11,
   "id": "2a8f32a1",
   "metadata": {},
   "outputs": [
    {
     "name": "stdout",
     "output_type": "stream",
     "text": [
      "Enter a floating point number: 44.3 \n",
      "Enter an integer: 16\n",
      "The sum is: 60.3\n",
      "The difference is: 28.299999999999997\n",
      "The product is: 708.8\n",
      "The quotient is: 2.76875\n"
     ]
    }
   ],
   "source": [
    "message1=\"Enter a floating point number: 44.3 \"\n",
    "print(message1)\n",
    "message2=\"Enter an integer: 16\"\n",
    "print(message2)\n",
    "print(\"The sum is:\",44.3+16)\n",
    "print(\"The difference is:\",44.3-16)\n",
    "print(\"The product is:\",44.3*16)\n",
    "print(\"The quotient is:\",44.3/16)"
   ]
  },
  {
   "cell_type": "code",
   "execution_count": 15,
   "id": "e7fa4174",
   "metadata": {},
   "outputs": [],
   "source": [
    "#assignment2, Luke Jenkins, version1, fall semester"
   ]
  },
  {
   "cell_type": "code",
   "execution_count": null,
   "id": "68b21230",
   "metadata": {},
   "outputs": [],
   "source": []
  }
 ],
 "metadata": {
  "kernelspec": {
   "display_name": "Python 3 (ipykernel)",
   "language": "python",
   "name": "python3"
  },
  "language_info": {
   "codemirror_mode": {
    "name": "ipython",
    "version": 3
   },
   "file_extension": ".py",
   "mimetype": "text/x-python",
   "name": "python",
   "nbconvert_exporter": "python",
   "pygments_lexer": "ipython3",
   "version": "3.9.13"
  }
 },
 "nbformat": 4,
 "nbformat_minor": 5
}
